{
 "cells": [
  {
   "cell_type": "code",
   "execution_count": 1,
   "metadata": {
    "tags": []
   },
   "outputs": [],
   "source": [
    "import pandas as pd\n",
    "import numpy as np\n",
    "import argparse\n",
    "import random\n",
    "from model import KGCN\n",
    "from data_loader import DataLoader\n",
    "import torch\n",
    "import torch.optim as optim\n",
    "from sklearn.model_selection import train_test_split\n",
    "import matplotlib.pyplot as plt\n",
    "from sklearn.metrics import roc_auc_score"
   ]
  },
  {
   "cell_type": "code",
   "execution_count": 2,
   "metadata": {},
   "outputs": [],
   "source": [
    "%load_ext autoreload\n",
    "%autoreload 2"
   ]
  },
  {
   "cell_type": "code",
   "execution_count": 3,
   "metadata": {},
   "outputs": [],
   "source": [
    "# prepare arguments (hyperparameters)\n",
    "parser = argparse.ArgumentParser()\n",
    "\n",
    "parser.add_argument('--dataset', type=str, default='movie', help='which dataset to use')\n",
    "parser.add_argument('--aggregator', type=str, default='sum', help='which aggregator to use')\n",
    "parser.add_argument('--n_epochs', type=int, default=20, help='the number of epochs')\n",
    "parser.add_argument('--neighbor_sample_size', type=int, default=8, help='the number of neighbors to be sampled')\n",
    "parser.add_argument('--dim', type=int, default=16, help='dimension of user and entity embeddings')\n",
    "parser.add_argument('--n_iter', type=int, default=1, help='number of iterations when computing entity representation')\n",
    "parser.add_argument('--batch_size', type=int, default=32, help='batch size')\n",
    "parser.add_argument('--l2_weight', type=float, default=1e-4, help='weight of l2 regularization')\n",
    "parser.add_argument('--lr', type=float, default=5e-4, help='learning rate')\n",
    "parser.add_argument('--ratio', type=float, default=0.8, help='size of training dataset')\n",
    "\n",
    "args = parser.parse_args(['--l2_weight', '1e-4'])"
   ]
  },
  {
   "cell_type": "code",
   "execution_count": 4,
   "metadata": {
    "tags": []
   },
   "outputs": [
    {
     "name": "stdout",
     "output_type": "stream",
     "text": [
      "Construct knowledge graph ... Done\n",
      "Build dataset dataframe ... Done\n"
     ]
    },
    {
     "data": {
      "text/html": [
       "<div>\n",
       "<style scoped>\n",
       "    .dataframe tbody tr th:only-of-type {\n",
       "        vertical-align: middle;\n",
       "    }\n",
       "\n",
       "    .dataframe tbody tr th {\n",
       "        vertical-align: top;\n",
       "    }\n",
       "\n",
       "    .dataframe thead th {\n",
       "        text-align: right;\n",
       "    }\n",
       "</style>\n",
       "<table border=\"1\" class=\"dataframe\">\n",
       "  <thead>\n",
       "    <tr style=\"text-align: right;\">\n",
       "      <th></th>\n",
       "      <th>userID</th>\n",
       "      <th>itemID</th>\n",
       "      <th>label</th>\n",
       "    </tr>\n",
       "  </thead>\n",
       "  <tbody>\n",
       "    <tr>\n",
       "      <th>0</th>\n",
       "      <td>1015</td>\n",
       "      <td>2</td>\n",
       "      <td>1</td>\n",
       "    </tr>\n",
       "    <tr>\n",
       "      <th>1</th>\n",
       "      <td>2194</td>\n",
       "      <td>4</td>\n",
       "      <td>1</td>\n",
       "    </tr>\n",
       "    <tr>\n",
       "      <th>2</th>\n",
       "      <td>1248</td>\n",
       "      <td>68276</td>\n",
       "      <td>0</td>\n",
       "    </tr>\n",
       "    <tr>\n",
       "      <th>3</th>\n",
       "      <td>3486</td>\n",
       "      <td>2</td>\n",
       "      <td>1</td>\n",
       "    </tr>\n",
       "    <tr>\n",
       "      <th>4</th>\n",
       "      <td>1864</td>\n",
       "      <td>2</td>\n",
       "      <td>1</td>\n",
       "    </tr>\n",
       "    <tr>\n",
       "      <th>...</th>\n",
       "      <td>...</td>\n",
       "      <td>...</td>\n",
       "      <td>...</td>\n",
       "    </tr>\n",
       "    <tr>\n",
       "      <th>88547</th>\n",
       "      <td>43</td>\n",
       "      <td>4</td>\n",
       "      <td>1</td>\n",
       "    </tr>\n",
       "    <tr>\n",
       "      <th>88548</th>\n",
       "      <td>1504</td>\n",
       "      <td>2</td>\n",
       "      <td>1</td>\n",
       "    </tr>\n",
       "    <tr>\n",
       "      <th>88549</th>\n",
       "      <td>2168</td>\n",
       "      <td>3</td>\n",
       "      <td>1</td>\n",
       "    </tr>\n",
       "    <tr>\n",
       "      <th>88550</th>\n",
       "      <td>4573</td>\n",
       "      <td>50792</td>\n",
       "      <td>0</td>\n",
       "    </tr>\n",
       "    <tr>\n",
       "      <th>88551</th>\n",
       "      <td>2568</td>\n",
       "      <td>90876</td>\n",
       "      <td>0</td>\n",
       "    </tr>\n",
       "  </tbody>\n",
       "</table>\n",
       "<p>88552 rows × 3 columns</p>\n",
       "</div>"
      ],
      "text/plain": [
       "       userID  itemID  label\n",
       "0        1015       2      1\n",
       "1        2194       4      1\n",
       "2        1248   68276      0\n",
       "3        3486       2      1\n",
       "4        1864       2      1\n",
       "...       ...     ...    ...\n",
       "88547      43       4      1\n",
       "88548    1504       2      1\n",
       "88549    2168       3      1\n",
       "88550    4573   50792      0\n",
       "88551    2568   90876      0\n",
       "\n",
       "[88552 rows x 3 columns]"
      ]
     },
     "execution_count": 4,
     "metadata": {},
     "output_type": "execute_result"
    }
   ],
   "source": [
    "# build dataset and knowledge graph\n",
    "data_loader = DataLoader(args.dataset)\n",
    "kg = data_loader.load_kg()\n",
    "df_dataset = data_loader.load_dataset()\n",
    "df_dataset"
   ]
  },
  {
   "cell_type": "code",
   "execution_count": 5,
   "metadata": {},
   "outputs": [],
   "source": [
    "# Dataset class\n",
    "class KGCNDataset(torch.utils.data.Dataset):\n",
    "    def __init__(self, df):\n",
    "        self.df = df\n",
    "    def __len__(self):\n",
    "        return len(self.df)\n",
    "    def __getitem__(self, idx):\n",
    "        user_id = np.array(self.df.iloc[idx]['userID'])\n",
    "        item_id = np.array(self.df.iloc[idx]['itemID'])\n",
    "        label = np.array(self.df.iloc[idx]['label'], dtype=np.float32)\n",
    "        return user_id, item_id, label"
   ]
  },
  {
   "cell_type": "code",
   "execution_count": 6,
   "metadata": {},
   "outputs": [],
   "source": [
    "# train test split\n",
    "x_train, x_test, y_train, y_test = train_test_split(df_dataset, df_dataset['label'], test_size=1 - args.ratio, shuffle=True, random_state=999)\n",
    "train_dataset = KGCNDataset(x_train)\n",
    "test_dataset = KGCNDataset(x_test)\n",
    "train_loader = torch.utils.data.DataLoader(train_dataset, batch_size=args.batch_size)\n",
    "test_loader = torch.utils.data.DataLoader(test_dataset, batch_size=args.batch_size)"
   ]
  },
  {
   "cell_type": "code",
   "execution_count": 7,
   "metadata": {},
   "outputs": [
    {
     "name": "stdout",
     "output_type": "stream",
     "text": [
      "device:  cpu\n"
     ]
    }
   ],
   "source": [
    "# prepare network, loss function, optimizer\n",
    "num_user, num_entity, num_relation = data_loader.get_num()\n",
    "user_encoder, entity_encoder, relation_encoder = data_loader.get_encoders()\n",
    "device = torch.device('cuda' if torch.cuda.is_available() else 'cpu')\n",
    "net = KGCN(num_user, num_entity, num_relation, kg, args, device).to(device)\n",
    "criterion = torch.nn.BCELoss()\n",
    "optimizer = optim.Adam(net.parameters(), lr=args.lr, weight_decay=args.l2_weight)\n",
    "print('device: ', device)"
   ]
  },
  {
   "cell_type": "code",
   "execution_count": 11,
   "metadata": {
    "tags": []
   },
   "outputs": [
    {
     "name": "stdout",
     "output_type": "stream",
     "text": [
      "[Epoch 1]train_loss:  0.5125686307694315\n",
      "[Epoch 1]test_loss:  0.3432384261908514\n",
      "[Epoch 2]train_loss:  0.30384114414938096\n",
      "[Epoch 2]test_loss:  0.2820826152655622\n",
      "[Epoch 3]train_loss:  0.26631807393874796\n",
      "[Epoch 3]test_loss:  0.2711692385456192\n",
      "[Epoch 4]train_loss:  0.25044519835855905\n",
      "[Epoch 4]test_loss:  0.26230619939225674\n",
      "[Epoch 5]train_loss:  0.23267110805982066\n",
      "[Epoch 5]test_loss:  0.24483411821002135\n",
      "[Epoch 6]train_loss:  0.20891536752732898\n",
      "[Epoch 6]test_loss:  0.22239821896441148\n",
      "[Epoch 7]train_loss:  0.18500171523699377\n",
      "[Epoch 7]test_loss:  0.20101895309742607\n",
      "[Epoch 8]train_loss:  0.1653116535035306\n",
      "[Epoch 8]test_loss:  0.18303895584351318\n",
      "[Epoch 9]train_loss:  0.15000045078772087\n",
      "[Epoch 9]test_loss:  0.16799944588100868\n",
      "[Epoch 10]train_loss:  0.1386503142817072\n",
      "[Epoch 10]test_loss:  0.15696805271753766\n",
      "[Epoch 11]train_loss:  0.13034712173576385\n",
      "[Epoch 11]test_loss:  0.1483807197842572\n",
      "[Epoch 12]train_loss:  0.12386178748232886\n",
      "[Epoch 12]test_loss:  0.14200975300764349\n",
      "[Epoch 13]train_loss:  0.11925963975670861\n",
      "[Epoch 13]test_loss:  0.1376470734335025\n",
      "[Epoch 14]train_loss:  0.11612398484629237\n",
      "[Epoch 14]test_loss:  0.13427476931887844\n",
      "[Epoch 15]train_loss:  0.11352562965099997\n",
      "[Epoch 15]test_loss:  0.1316722979641348\n",
      "[Epoch 16]train_loss:  0.11181646187023311\n",
      "[Epoch 16]test_loss:  0.1301040439076372\n",
      "[Epoch 17]train_loss:  0.11075095934986853\n",
      "[Epoch 17]test_loss:  0.12887911380198028\n",
      "[Epoch 18]train_loss:  0.10977837591421098\n",
      "[Epoch 18]test_loss:  0.12785836321298397\n",
      "[Epoch 19]train_loss:  0.10933070277329114\n",
      "[Epoch 19]test_loss:  0.12739633897904454\n",
      "[Epoch 20]train_loss:  0.1091025535256182\n",
      "[Epoch 20]test_loss:  0.1270837245192984\n"
     ]
    }
   ],
   "source": [
    "# train\n",
    "loss_list = []\n",
    "test_loss_list = []\n",
    "auc_score_list = []\n",
    "\n",
    "for epoch in range(args.n_epochs):\n",
    "    running_loss = 0.0\n",
    "    for i, (user_ids, item_ids, labels) in enumerate(train_loader):\n",
    "        user_ids, item_ids, labels = user_ids.to(device), item_ids.to(device), labels.to(device)\n",
    "        optimizer.zero_grad()\n",
    "        outputs = net(user_ids, item_ids)\n",
    "        loss = criterion(outputs, labels)\n",
    "        loss.backward()\n",
    "        \n",
    "        optimizer.step()\n",
    "\n",
    "        running_loss += loss.item()\n",
    "    \n",
    "    # print train loss per every epoch\n",
    "    print('[Epoch {}]train_loss: '.format(epoch+1), running_loss / len(train_loader))\n",
    "    loss_list.append(running_loss / len(train_loader))\n",
    "        \n",
    "    # evaluate per every epoch\n",
    "    with torch.no_grad():\n",
    "        test_loss = 0\n",
    "        total_roc = 0\n",
    "        for user_ids, item_ids, labels in test_loader:\n",
    "            user_ids, item_ids, labels = user_ids.to(device), item_ids.to(device), labels.to(device)\n",
    "            outputs = net(user_ids, item_ids)\n",
    "            test_loss += criterion(outputs, labels).item()\n",
    "            total_roc += roc_auc_score(labels.cpu().detach().numpy(), outputs.cpu().detach().numpy())\n",
    "        print('[Epoch {}]test_loss: '.format(epoch+1), test_loss / len(test_loader))\n",
    "        test_loss_list.append(test_loss / len(test_loader))\n",
    "        auc_score_list.append(total_roc / len(test_loader))"
   ]
  },
  {
   "cell_type": "code",
   "execution_count": 12,
   "metadata": {},
   "outputs": [
    {
     "name": "stdout",
     "output_type": "stream",
     "text": [
      "[0.8996362600562804, 0.965251654293615, 0.9746923142170515, 0.978140902637488, 0.9848136223693847, 0.9914464552903257, 0.9961339248169335, 0.9981084449020331, 0.9990982287632634, 0.9995400775710478, 0.9996580286589211, 0.9997330048259554, 0.9997417248943208, 0.9997417248943208, 0.9997401376578506, 0.9997385504213808, 0.9997291490976743, 0.9997479517450872, 0.9997479517450872, 0.9997479517450872]\n"
     ]
    }
   ],
   "source": [
    "print(auc_score_list)"
   ]
  },
  {
   "cell_type": "markdown",
   "metadata": {},
   "source": [
    "## Compute precision@K"
   ]
  },
  {
   "cell_type": "code",
   "execution_count": 15,
   "metadata": {
    "tags": []
   },
   "outputs": [],
   "source": [
    "all_user_ids = x_test['userID'].to_list()\n",
    "all_item_ids = x_test['itemID'].to_list()\n",
    "all_labels = x_test['label'].to_list()\n",
    "\n",
    "items_dictionary = {}\n",
    "mask = []\n",
    "for i, u in enumerate(all_user_ids):\n",
    "    items_dictionary[u] = set(np.array(all_item_ids)[np.array(all_user_ids) == u])\n",
    "\n",
    "item_ids = torch.tensor(all_item_ids)\n",
    "labels = torch.tensor(all_labels)\n",
    "\n",
    "k=10\n",
    "\n",
    "num_hits = 0\n",
    "\n",
    "for u, i in items_dictionary.items():\n",
    "    user_ids = torch.tensor([u]*len(all_user_ids))\n",
    "    predictions = net(user_ids, item_ids)\n",
    "    _, indices = predictions.topk(k=10, largest=True)\n",
    "    num_hits += len([x for x in i if x in indices.tolist()])"
   ]
  },
  {
   "cell_type": "code",
   "execution_count": 14,
   "metadata": {},
   "outputs": [
    {
     "name": "stdout",
     "output_type": "stream",
     "text": [
      "0.10439839647676585\n"
     ]
    }
   ],
   "source": [
    "print(num_hits/len(all_user_ids))"
   ]
  },
  {
   "cell_type": "markdown",
   "metadata": {},
   "source": [
    "## Build dataset from other KG"
   ]
  },
  {
   "cell_type": "code",
   "execution_count": 10,
   "metadata": {},
   "outputs": [
    {
     "name": "stderr",
     "output_type": "stream",
     "text": [
      "/tmp/ipykernel_229275/2542455425.py:3: ParserWarning: Falling back to the 'python' engine because the 'c' engine does not support regex separators (separators > 1 char and different from '\\s+' are interpreted as regex); you can avoid this warning by specifying engine='python'.\n",
      "  kg_df = pd.read_csv(\"data/kg/kg_no_feedback.csv\", sep=\"::\", names=['head', 'rel', 'tail'], header=0)\n",
      "/tmp/ipykernel_229275/2542455425.py:26: SettingWithCopyWarning: \n",
      "A value is trying to be set on a copy of a slice from a DataFrame.\n",
      "Try using .loc[row_indexer,col_indexer] = value instead\n",
      "\n",
      "See the caveats in the documentation: https://pandas.pydata.org/pandas-docs/stable/user_guide/indexing.html#returning-a-view-versus-a-copy\n",
      "  ratings_df['itemID'] = le_items.transform(ratings_df['itemID'].to_numpy())\n",
      "/tmp/ipykernel_229275/2542455425.py:30: SettingWithCopyWarning: \n",
      "A value is trying to be set on a copy of a slice from a DataFrame.\n",
      "Try using .loc[row_indexer,col_indexer] = value instead\n",
      "\n",
      "See the caveats in the documentation: https://pandas.pydata.org/pandas-docs/stable/user_guide/indexing.html#returning-a-view-versus-a-copy\n",
      "  ratings_df['userID'] = le_users.transform(ratings_df['userID'].to_numpy())\n"
     ]
    }
   ],
   "source": [
    "entities_index = pd.read_csv(\"data/kg/entities_index.csv\", sep='\\t', names=['item', 'id'], header=0)\n",
    "mappings_df = pd.read_csv(\"data/kg/mappings.tsv\", sep=\"\\t\", names=(\"item_id\", \"name\", \"item_uri\"), header=0)\n",
    "kg_df = pd.read_csv(\"data/kg/kg_no_feedback.csv\", sep=\"::\", names=['head', 'rel', 'tail'], header=0)\n",
    "relations_index = pd.read_csv(\"data/kg/relations_index.csv\", sep='\\t', names=['relation', 'relation_id'], header=0)\n",
    "temp = entities_index.merge(kg_df, left_on=\"item\", right_on=\"head\")\n",
    "temp = temp.merge(relations_index, left_on=\"rel\", right_on=\"relation\")\n",
    "temp = temp.merge(entities_index, left_on=\"tail\", right_on=\"item\")\n",
    "kg_indexed = temp[['id_x', 'relation_id', 'id_y']]\n",
    "\n",
    "ratings_df = pd.read_csv(\"data/kg/ratings.csv\")\n",
    "temp = ratings_df.merge(mappings_df, left_on=\"movieId\", right_on=\"item_id\")\n",
    "temp = temp.merge(entities_index, left_on='item_uri', right_on='item')[['userId', 'rating', 'id']]\n",
    "# Conversion for comparison.\n",
    "temp['userId'] = temp['userId'].astype(str)\n",
    "temp = entities_index.merge(temp, left_on='item', right_on='userId')[['id_x', 'id_y', 'rating']]\n",
    "temp['label'] = temp['rating'].apply(lambda x: 1 if x >= 4 else 0)\n",
    "ratings_df = temp[['id_x', 'id_y', 'label']]\n",
    "ratings_df.columns = ['userID', 'itemID', 'label']\n",
    "\n",
    "# Reindexing.\n",
    "from sklearn import preprocessing\n",
    "le_items = preprocessing.LabelEncoder()\n",
    "le_items.fit(np.append(np.append(kg_indexed['id_x'].to_numpy(), kg_indexed['id_y'].to_numpy()), ratings_df['itemID'].to_numpy()))\n",
    "kg_indexed['id_x'] = le_items.transform(kg_indexed['id_x'].to_numpy())\n",
    "kg_indexed['id_y'] = le_items.transform(kg_indexed['id_y'].to_numpy())\n",
    "ratings_df['itemID'] = le_items.transform(ratings_df['itemID'].to_numpy())\n",
    "\n",
    "le_users = preprocessing.LabelEncoder()\n",
    "le_users.fit(ratings_df['userID'].to_numpy())\n",
    "ratings_df['userID'] = le_users.transform(ratings_df['userID'].to_numpy())\n",
    "\n",
    "kg_indexed['relitem'] = list(zip(kg_indexed.relation_id, kg_indexed.id_y))\n",
    "kg_indexed = kg_indexed[['id_x', 'relitem']]\n",
    "kg_indexed = kg_indexed.groupby('id_x').agg({'relitem':lambda x: list(x)})\n",
    "kg_indexed.head()\n",
    "\n",
    "kg_dict = {}\n",
    "for row in kg_indexed.itertuples():\n",
    "    kg_dict[row.Index] = row.relitem\n",
    "    \n",
    "kg = kg_dict\n",
    "df_dataset = ratings_df"
   ]
  },
  {
   "cell_type": "code",
   "execution_count": null,
   "metadata": {},
   "outputs": [],
   "source": []
  }
 ],
 "metadata": {
  "kernelspec": {
   "display_name": "Python 3 (ipykernel)",
   "language": "python",
   "name": "python3"
  },
  "language_info": {
   "codemirror_mode": {
    "name": "ipython",
    "version": 3
   },
   "file_extension": ".py",
   "mimetype": "text/x-python",
   "name": "python",
   "nbconvert_exporter": "python",
   "pygments_lexer": "ipython3",
   "version": "3.10.6"
  }
 },
 "nbformat": 4,
 "nbformat_minor": 4
}

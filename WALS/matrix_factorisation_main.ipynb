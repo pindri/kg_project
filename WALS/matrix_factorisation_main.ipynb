{
 "cells": [
  {
   "cell_type": "code",
   "execution_count": 1,
   "metadata": {},
   "outputs": [],
   "source": [
    "import numpy as np\n",
    "import pandas as pd\n",
    "import matplotlib.pyplot as plt"
   ]
  },
  {
   "cell_type": "code",
   "execution_count": 2,
   "metadata": {},
   "outputs": [],
   "source": [
    "import utilities # codeTimer context manager and saving/loading utilities.\n",
    "import data_preparation # Load dataset and build required matrices.\n",
    "import factorisation # WALS factorisation.\n",
    "import recommender # Recommender system."
   ]
  },
  {
   "cell_type": "markdown",
   "metadata": {
    "tags": []
   },
   "source": [
    "## Loading dataset and creating recommender system"
   ]
  },
  {
   "cell_type": "code",
   "execution_count": 3,
   "metadata": {},
   "outputs": [],
   "source": [
    "%load_ext autoreload\n",
    "%autoreload 2"
   ]
  },
  {
   "cell_type": "code",
   "execution_count": null,
   "metadata": {},
   "outputs": [
    {
     "name": "stderr",
     "output_type": "stream",
     "text": [
      "/home/pindri/OneDrive/TUW/github_repos/kg_project/matrix_factorisation/data_preparation.py:86: FutureWarning: The frame.append method is deprecated and will be removed from pandas in a future version. Use pandas.concat instead.\n",
      "  ratings_df_test = ratings_df_test.append(ratings_df[ratings_df\n"
     ]
    },
    {
     "name": "stdout",
     "output_type": "stream",
     "text": [
      "The dataframe contains 610 users and 9721 items.\n"
     ]
    }
   ],
   "source": [
    "np.random.seed(17)\n",
    "\n",
    "mov, rat, rat_test = data_preparation.importDataset()\n",
    "k = 100\n",
    "rec = recommender.recommenderSystem(mov, rat, rat_test, k)"
   ]
  },
  {
   "cell_type": "markdown",
   "metadata": {},
   "source": [
    "A pre-trained recommander system can be loaded using the following cell. The pre-trained system has been trained using the whole dataset with $k = 100$ latent factors and 10 iterations.\n",
    "\n",
    "In order to save disk space, the saved system consists only of the item and user embedding matrices. This requires the user to call the previous cell, building the remaining components of the system. "
   ]
  },
  {
   "cell_type": "code",
   "execution_count": null,
   "metadata": {},
   "outputs": [],
   "source": [
    "utilities.loadRecSys(rec, \"rec.npz\")"
   ]
  },
  {
   "cell_type": "markdown",
   "metadata": {},
   "source": [
    "## Similar items\n",
    "Some suggestions:\n",
    "* 911: Star Wars Episode VI\n",
    "* 3638: The Lord of the Rings: The Fellowship of the Ring\n",
    "* 957: The Shining\n",
    "* 474: Blade Runner"
   ]
  },
  {
   "cell_type": "code",
   "execution_count": 17,
   "metadata": {},
   "outputs": [
    {
     "data": {
      "text/html": [
       "<div>\n",
       "<style scoped>\n",
       "    .dataframe tbody tr th:only-of-type {\n",
       "        vertical-align: middle;\n",
       "    }\n",
       "\n",
       "    .dataframe tbody tr th {\n",
       "        vertical-align: top;\n",
       "    }\n",
       "\n",
       "    .dataframe thead th {\n",
       "        text-align: right;\n",
       "    }\n",
       "</style>\n",
       "<table border=\"1\" class=\"dataframe\">\n",
       "  <thead>\n",
       "    <tr style=\"text-align: right;\">\n",
       "      <th></th>\n",
       "      <th>MovieID</th>\n",
       "      <th>Title</th>\n",
       "      <th>Genres</th>\n",
       "      <th>Similarity</th>\n",
       "    </tr>\n",
       "  </thead>\n",
       "  <tbody>\n",
       "    <tr>\n",
       "      <th>3638</th>\n",
       "      <td>3638</td>\n",
       "      <td>Lord of the Rings: The Fellowship of the Ring,...</td>\n",
       "      <td>Adventure|Fantasy</td>\n",
       "      <td>1.000000</td>\n",
       "    </tr>\n",
       "    <tr>\n",
       "      <th>4137</th>\n",
       "      <td>4137</td>\n",
       "      <td>Lord of the Rings: The Two Towers, The (2002)</td>\n",
       "      <td>Adventure|Fantasy</td>\n",
       "      <td>0.772991</td>\n",
       "    </tr>\n",
       "    <tr>\n",
       "      <th>4800</th>\n",
       "      <td>4800</td>\n",
       "      <td>Lord of the Rings: The Return of the King, The...</td>\n",
       "      <td>Action|Adventure|Drama|Fantasy</td>\n",
       "      <td>0.748294</td>\n",
       "    </tr>\n",
       "    <tr>\n",
       "      <th>3568</th>\n",
       "      <td>3568</td>\n",
       "      <td>Monsters, Inc. (2001)</td>\n",
       "      <td>Adventure|Animation|Children|Comedy|Fantasy</td>\n",
       "      <td>0.748244</td>\n",
       "    </tr>\n",
       "    <tr>\n",
       "      <th>659</th>\n",
       "      <td>659</td>\n",
       "      <td>Godfather, The (1972)</td>\n",
       "      <td>Crime|Drama</td>\n",
       "      <td>0.722716</td>\n",
       "    </tr>\n",
       "    <tr>\n",
       "      <th>3194</th>\n",
       "      <td>3194</td>\n",
       "      <td>Shrek (2001)</td>\n",
       "      <td>Adventure|Animation|Children|Comedy|Fantasy|Ro...</td>\n",
       "      <td>0.721707</td>\n",
       "    </tr>\n",
       "    <tr>\n",
       "      <th>4360</th>\n",
       "      <td>4360</td>\n",
       "      <td>Finding Nemo (2003)</td>\n",
       "      <td>Adventure|Animation|Children|Comedy</td>\n",
       "      <td>0.691656</td>\n",
       "    </tr>\n",
       "    <tr>\n",
       "      <th>277</th>\n",
       "      <td>277</td>\n",
       "      <td>Shawshank Redemption, The (1994)</td>\n",
       "      <td>Crime|Drama</td>\n",
       "      <td>0.688652</td>\n",
       "    </tr>\n",
       "    <tr>\n",
       "      <th>2078</th>\n",
       "      <td>2078</td>\n",
       "      <td>Sixth Sense, The (1999)</td>\n",
       "      <td>Drama|Horror|Mystery</td>\n",
       "      <td>0.683175</td>\n",
       "    </tr>\n",
       "    <tr>\n",
       "      <th>3141</th>\n",
       "      <td>3141</td>\n",
       "      <td>Memento (2000)</td>\n",
       "      <td>Mystery|Thriller</td>\n",
       "      <td>0.677524</td>\n",
       "    </tr>\n",
       "  </tbody>\n",
       "</table>\n",
       "</div>"
      ],
      "text/plain": [
       "      MovieID                                              Title  \\\n",
       "3638     3638  Lord of the Rings: The Fellowship of the Ring,...   \n",
       "4137     4137      Lord of the Rings: The Two Towers, The (2002)   \n",
       "4800     4800  Lord of the Rings: The Return of the King, The...   \n",
       "3568     3568                              Monsters, Inc. (2001)   \n",
       "659       659                              Godfather, The (1972)   \n",
       "3194     3194                                       Shrek (2001)   \n",
       "4360     4360                                Finding Nemo (2003)   \n",
       "277       277                   Shawshank Redemption, The (1994)   \n",
       "2078     2078                            Sixth Sense, The (1999)   \n",
       "3141     3141                                     Memento (2000)   \n",
       "\n",
       "                                                 Genres  Similarity  \n",
       "3638                                  Adventure|Fantasy    1.000000  \n",
       "4137                                  Adventure|Fantasy    0.772991  \n",
       "4800                     Action|Adventure|Drama|Fantasy    0.748294  \n",
       "3568        Adventure|Animation|Children|Comedy|Fantasy    0.748244  \n",
       "659                                         Crime|Drama    0.722716  \n",
       "3194  Adventure|Animation|Children|Comedy|Fantasy|Ro...    0.721707  \n",
       "4360                Adventure|Animation|Children|Comedy    0.691656  \n",
       "277                                         Crime|Drama    0.688652  \n",
       "2078                               Drama|Horror|Mystery    0.683175  \n",
       "3141                                   Mystery|Thriller    0.677524  "
      ]
     },
     "execution_count": 17,
     "metadata": {},
     "output_type": "execute_result"
    }
   ],
   "source": [
    "rec.suggestSimilar(3638)"
   ]
  },
  {
   "cell_type": "markdown",
   "metadata": {},
   "source": [
    "## Assessing results"
   ]
  },
  {
   "cell_type": "markdown",
   "metadata": {},
   "source": [
    "The following two cells may take a few minutes to run. By default there are 10 test observations. If this is the case, the mean precision and the mean recall at 10 are expected to be the same."
   ]
  },
  {
   "cell_type": "code",
   "execution_count": 18,
   "metadata": {},
   "outputs": [
    {
     "name": "stdout",
     "output_type": "stream",
     "text": [
      "Mean precision at 10: 0.027823240589198002\n",
      "Executed 'Mean precision'.  Elapsed time: 32.983721s\n"
     ]
    }
   ],
   "source": [
    "with utilities.codeTimer(\"Mean precision\"):\n",
    "    print(\"Mean precision at 10: {}\".format(rec.meanPrecision(10)))"
   ]
  },
  {
   "cell_type": "markdown",
   "metadata": {},
   "source": [
    "## New user recommendation"
   ]
  },
  {
   "cell_type": "code",
   "execution_count": 20,
   "metadata": {},
   "outputs": [
    {
     "data": {
      "text/plain": [
       "(611, 9721)"
      ]
     },
     "execution_count": 20,
     "metadata": {},
     "output_type": "execute_result"
    }
   ],
   "source": [
    "np.random.seed(17)\n",
    "\n",
    "new_user, new_user_id = rec.generateNewUser(50)\n",
    "np.shape(rec.R)"
   ]
  },
  {
   "cell_type": "code",
   "execution_count": 21,
   "metadata": {},
   "outputs": [],
   "source": [
    "new_user_id\n",
    "reg_lambda = 0.15"
   ]
  },
  {
   "cell_type": "code",
   "execution_count": 22,
   "metadata": {},
   "outputs": [
    {
     "name": "stderr",
     "output_type": "stream",
     "text": [
      "/home/pindri/OneDrive/TUW/github_repos/kg_project/matrix_factorisation/data_preparation.py:172: FutureWarning: The frame.append method is deprecated and will be removed from pandas in a future version. Use pandas.concat instead.\n",
      "  R_df = R_df.append(new_df,\n"
     ]
    },
    {
     "name": "stdout",
     "output_type": "stream",
     "text": [
      "Executed 'New user factorisation'.  Elapsed time: 0.358114s\n"
     ]
    },
    {
     "data": {
      "text/plain": [
       "(612, 9721)"
      ]
     },
     "execution_count": 22,
     "metadata": {},
     "output_type": "execute_result"
    }
   ],
   "source": [
    "with utilities.codeTimer(\"New user factorisation\"):\n",
    "    rec.addNewUser(new_user, reg_lambda)\n",
    "np.shape(rec.R)"
   ]
  },
  {
   "cell_type": "code",
   "execution_count": 23,
   "metadata": {},
   "outputs": [
    {
     "data": {
      "text/html": [
       "<div>\n",
       "<style scoped>\n",
       "    .dataframe tbody tr th:only-of-type {\n",
       "        vertical-align: middle;\n",
       "    }\n",
       "\n",
       "    .dataframe tbody tr th {\n",
       "        vertical-align: top;\n",
       "    }\n",
       "\n",
       "    .dataframe thead th {\n",
       "        text-align: right;\n",
       "    }\n",
       "</style>\n",
       "<table border=\"1\" class=\"dataframe\">\n",
       "  <thead>\n",
       "    <tr style=\"text-align: right;\">\n",
       "      <th></th>\n",
       "      <th>MovieID</th>\n",
       "      <th>Prediction</th>\n",
       "      <th>Title</th>\n",
       "      <th>Genres</th>\n",
       "      <th>AVG_Rating</th>\n",
       "    </tr>\n",
       "  </thead>\n",
       "  <tbody>\n",
       "    <tr>\n",
       "      <th>508</th>\n",
       "      <td>511</td>\n",
       "      <td>8.89</td>\n",
       "      <td>Snow White and the Seven Dwarfs (1937)</td>\n",
       "      <td>Animation|Children|Drama|Fantasy|Musical</td>\n",
       "      <td>3.515385</td>\n",
       "    </tr>\n",
       "    <tr>\n",
       "      <th>3548</th>\n",
       "      <td>3607</td>\n",
       "      <td>7.41</td>\n",
       "      <td>Ocean's Eleven (a.k.a. Ocean's 11) (1960)</td>\n",
       "      <td>Comedy|Crime</td>\n",
       "      <td>3.700000</td>\n",
       "    </tr>\n",
       "    <tr>\n",
       "      <th>1360</th>\n",
       "      <td>1375</td>\n",
       "      <td>7.37</td>\n",
       "      <td>Fear and Loathing in Las Vegas (1998)</td>\n",
       "      <td>Adventure|Comedy|Drama</td>\n",
       "      <td>3.944444</td>\n",
       "    </tr>\n",
       "    <tr>\n",
       "      <th>156</th>\n",
       "      <td>157</td>\n",
       "      <td>7.33</td>\n",
       "      <td>Nine Months (1995)</td>\n",
       "      <td>Comedy|Romance</td>\n",
       "      <td>2.822917</td>\n",
       "    </tr>\n",
       "    <tr>\n",
       "      <th>3622</th>\n",
       "      <td>3682</td>\n",
       "      <td>7.22</td>\n",
       "      <td>Metropolis (2001)</td>\n",
       "      <td>Animation|Sci-Fi</td>\n",
       "      <td>3.961538</td>\n",
       "    </tr>\n",
       "    <tr>\n",
       "      <th>953</th>\n",
       "      <td>960</td>\n",
       "      <td>7.18</td>\n",
       "      <td>Evil Dead II (Dead by Dawn) (1987)</td>\n",
       "      <td>Action|Comedy|Fantasy|Horror</td>\n",
       "      <td>4.044118</td>\n",
       "    </tr>\n",
       "    <tr>\n",
       "      <th>190</th>\n",
       "      <td>192</td>\n",
       "      <td>6.85</td>\n",
       "      <td>Disclosure (1994)</td>\n",
       "      <td>Drama|Thriller</td>\n",
       "      <td>3.538462</td>\n",
       "    </tr>\n",
       "    <tr>\n",
       "      <th>2243</th>\n",
       "      <td>2265</td>\n",
       "      <td>6.64</td>\n",
       "      <td>Insider, The (1999)</td>\n",
       "      <td>Drama|Thriller</td>\n",
       "      <td>3.700000</td>\n",
       "    </tr>\n",
       "    <tr>\n",
       "      <th>1470</th>\n",
       "      <td>1485</td>\n",
       "      <td>6.62</td>\n",
       "      <td>Metropolis (1927)</td>\n",
       "      <td>Drama|Sci-Fi</td>\n",
       "      <td>3.857143</td>\n",
       "    </tr>\n",
       "    <tr>\n",
       "      <th>2530</th>\n",
       "      <td>2558</td>\n",
       "      <td>6.59</td>\n",
       "      <td>Do the Right Thing (1989)</td>\n",
       "      <td>Drama</td>\n",
       "      <td>4.038462</td>\n",
       "    </tr>\n",
       "  </tbody>\n",
       "</table>\n",
       "</div>"
      ],
      "text/plain": [
       "      MovieID  Prediction                                      Title  \\\n",
       "508       511        8.89     Snow White and the Seven Dwarfs (1937)   \n",
       "3548     3607        7.41  Ocean's Eleven (a.k.a. Ocean's 11) (1960)   \n",
       "1360     1375        7.37      Fear and Loathing in Las Vegas (1998)   \n",
       "156       157        7.33                         Nine Months (1995)   \n",
       "3622     3682        7.22                          Metropolis (2001)   \n",
       "953       960        7.18         Evil Dead II (Dead by Dawn) (1987)   \n",
       "190       192        6.85                          Disclosure (1994)   \n",
       "2243     2265        6.64                        Insider, The (1999)   \n",
       "1470     1485        6.62                          Metropolis (1927)   \n",
       "2530     2558        6.59                  Do the Right Thing (1989)   \n",
       "\n",
       "                                        Genres  AVG_Rating  \n",
       "508   Animation|Children|Drama|Fantasy|Musical    3.515385  \n",
       "3548                              Comedy|Crime    3.700000  \n",
       "1360                    Adventure|Comedy|Drama    3.944444  \n",
       "156                             Comedy|Romance    2.822917  \n",
       "3622                          Animation|Sci-Fi    3.961538  \n",
       "953               Action|Comedy|Fantasy|Horror    4.044118  \n",
       "190                             Drama|Thriller    3.538462  \n",
       "2243                            Drama|Thriller    3.700000  \n",
       "1470                              Drama|Sci-Fi    3.857143  \n",
       "2530                                     Drama    4.038462  "
      ]
     },
     "execution_count": 23,
     "metadata": {},
     "output_type": "execute_result"
    }
   ],
   "source": [
    "recommend(rec, new_user_id).head(10)"
   ]
  },
  {
   "cell_type": "code",
   "execution_count": 24,
   "metadata": {},
   "outputs": [
    {
     "data": {
      "text/html": [
       "<div>\n",
       "<style scoped>\n",
       "    .dataframe tbody tr th:only-of-type {\n",
       "        vertical-align: middle;\n",
       "    }\n",
       "\n",
       "    .dataframe tbody tr th {\n",
       "        vertical-align: top;\n",
       "    }\n",
       "\n",
       "    .dataframe thead th {\n",
       "        text-align: right;\n",
       "    }\n",
       "</style>\n",
       "<table border=\"1\" class=\"dataframe\">\n",
       "  <thead>\n",
       "    <tr style=\"text-align: right;\">\n",
       "      <th></th>\n",
       "      <th>MovieID</th>\n",
       "      <th>UserID</th>\n",
       "      <th>Genres</th>\n",
       "      <th>Title</th>\n",
       "      <th>Rating</th>\n",
       "    </tr>\n",
       "  </thead>\n",
       "  <tbody>\n",
       "    <tr>\n",
       "      <th>94806</th>\n",
       "      <td>3787</td>\n",
       "      <td>611</td>\n",
       "      <td>Comedy|Romance</td>\n",
       "      <td>Sweetest Thing, The (2002)</td>\n",
       "      <td>5.0</td>\n",
       "    </tr>\n",
       "    <tr>\n",
       "      <th>94794</th>\n",
       "      <td>1365</td>\n",
       "      <td>611</td>\n",
       "      <td>Comedy</td>\n",
       "      <td>Major League: Back to the Minors (1998)</td>\n",
       "      <td>5.0</td>\n",
       "    </tr>\n",
       "    <tr>\n",
       "      <th>94809</th>\n",
       "      <td>4302</td>\n",
       "      <td>611</td>\n",
       "      <td>Crime|Drama</td>\n",
       "      <td>Better Luck Tomorrow (2002)</td>\n",
       "      <td>5.0</td>\n",
       "    </tr>\n",
       "    <tr>\n",
       "      <th>94829</th>\n",
       "      <td>8361</td>\n",
       "      <td>611</td>\n",
       "      <td>Adventure|Comedy|Fantasy</td>\n",
       "      <td>Knights of Badassdom (2013)</td>\n",
       "      <td>5.0</td>\n",
       "    </tr>\n",
       "    <tr>\n",
       "      <th>94815</th>\n",
       "      <td>5121</td>\n",
       "      <td>611</td>\n",
       "      <td>Action|Adventure|Romance</td>\n",
       "      <td>Captain Blood (1935)</td>\n",
       "      <td>5.0</td>\n",
       "    </tr>\n",
       "    <tr>\n",
       "      <th>94790</th>\n",
       "      <td>1203</td>\n",
       "      <td>611</td>\n",
       "      <td>Crime|Drama|Film-Noir</td>\n",
       "      <td>Hoodlum (1997)</td>\n",
       "      <td>5.0</td>\n",
       "    </tr>\n",
       "    <tr>\n",
       "      <th>94823</th>\n",
       "      <td>6911</td>\n",
       "      <td>611</td>\n",
       "      <td>Animation|Comedy</td>\n",
       "      <td>Igor (2008)</td>\n",
       "      <td>5.0</td>\n",
       "    </tr>\n",
       "    <tr>\n",
       "      <th>94799</th>\n",
       "      <td>2454</td>\n",
       "      <td>611</td>\n",
       "      <td>Action|Crime|Thriller|Western</td>\n",
       "      <td>Mariachi, El (1992)</td>\n",
       "      <td>4.5</td>\n",
       "    </tr>\n",
       "    <tr>\n",
       "      <th>94800</th>\n",
       "      <td>2672</td>\n",
       "      <td>611</td>\n",
       "      <td>Action|Horror|Sci-Fi</td>\n",
       "      <td>Hidden, The (1987)</td>\n",
       "      <td>4.5</td>\n",
       "    </tr>\n",
       "    <tr>\n",
       "      <th>94827</th>\n",
       "      <td>8143</td>\n",
       "      <td>611</td>\n",
       "      <td>Children|Horror|Sci-Fi</td>\n",
       "      <td>Yongary: Monster from the Deep (1967)</td>\n",
       "      <td>4.5</td>\n",
       "    </tr>\n",
       "  </tbody>\n",
       "</table>\n",
       "</div>"
      ],
      "text/plain": [
       "       MovieID  UserID                         Genres  \\\n",
       "94806     3787     611                 Comedy|Romance   \n",
       "94794     1365     611                         Comedy   \n",
       "94809     4302     611                    Crime|Drama   \n",
       "94829     8361     611       Adventure|Comedy|Fantasy   \n",
       "94815     5121     611       Action|Adventure|Romance   \n",
       "94790     1203     611          Crime|Drama|Film-Noir   \n",
       "94823     6911     611               Animation|Comedy   \n",
       "94799     2454     611  Action|Crime|Thriller|Western   \n",
       "94800     2672     611           Action|Horror|Sci-Fi   \n",
       "94827     8143     611         Children|Horror|Sci-Fi   \n",
       "\n",
       "                                         Title  Rating  \n",
       "94806               Sweetest Thing, The (2002)     5.0  \n",
       "94794  Major League: Back to the Minors (1998)     5.0  \n",
       "94809              Better Luck Tomorrow (2002)     5.0  \n",
       "94829              Knights of Badassdom (2013)     5.0  \n",
       "94815                     Captain Blood (1935)     5.0  \n",
       "94790                           Hoodlum (1997)     5.0  \n",
       "94823                              Igor (2008)     5.0  \n",
       "94799                      Mariachi, El (1992)     4.5  \n",
       "94800                       Hidden, The (1987)     4.5  \n",
       "94827    Yongary: Monster from the Deep (1967)     4.5  "
      ]
     },
     "execution_count": 24,
     "metadata": {},
     "output_type": "execute_result"
    }
   ],
   "source": [
    "bestRated(rec, new_user_id).head(10)"
   ]
  },
  {
   "cell_type": "markdown",
   "metadata": {},
   "source": [
    "## Cold start problem\n",
    "If a new user has rated less than 10 movies, the most popular and unseen movies will be recommended."
   ]
  },
  {
   "cell_type": "code",
   "execution_count": 25,
   "metadata": {},
   "outputs": [
    {
     "name": "stderr",
     "output_type": "stream",
     "text": [
      "/home/pindri/OneDrive/TUW/github_repos/kg_project/matrix_factorisation/data_preparation.py:172: FutureWarning: The frame.append method is deprecated and will be removed from pandas in a future version. Use pandas.concat instead.\n",
      "  R_df = R_df.append(new_df,\n"
     ]
    },
    {
     "name": "stdout",
     "output_type": "stream",
     "text": [
      "Executed 'New user factorisation'.  Elapsed time: 0.339126s\n"
     ]
    }
   ],
   "source": [
    "np.random.seed(17)\n",
    "\n",
    "new_user, new_user_id = rec.generateNewUser(8)\n",
    "np.shape(rec.R)\n",
    "\n",
    "with utilities.codeTimer(\"New user factorisation\"):\n",
    "    rec.addNewUser(new_user, reg_lambda)"
   ]
  },
  {
   "cell_type": "code",
   "execution_count": 26,
   "metadata": {},
   "outputs": [
    {
     "name": "stdout",
     "output_type": "stream",
     "text": [
      "Too few movies! Most poular movies will be suggested.\n"
     ]
    },
    {
     "data": {
      "text/html": [
       "<div>\n",
       "<style scoped>\n",
       "    .dataframe tbody tr th:only-of-type {\n",
       "        vertical-align: middle;\n",
       "    }\n",
       "\n",
       "    .dataframe tbody tr th {\n",
       "        vertical-align: top;\n",
       "    }\n",
       "\n",
       "    .dataframe thead th {\n",
       "        text-align: right;\n",
       "    }\n",
       "</style>\n",
       "<table border=\"1\" class=\"dataframe\">\n",
       "  <thead>\n",
       "    <tr style=\"text-align: right;\">\n",
       "      <th></th>\n",
       "      <th>MovieID</th>\n",
       "      <th>Title</th>\n",
       "      <th>Genres</th>\n",
       "      <th>AVG_Rating</th>\n",
       "      <th>Counts</th>\n",
       "    </tr>\n",
       "  </thead>\n",
       "  <tbody>\n",
       "    <tr>\n",
       "      <th>314</th>\n",
       "      <td>314</td>\n",
       "      <td>Forrest Gump (1994)</td>\n",
       "      <td>Comedy|Drama|Romance|War</td>\n",
       "      <td>4.173913</td>\n",
       "      <td>322</td>\n",
       "    </tr>\n",
       "    <tr>\n",
       "      <th>277</th>\n",
       "      <td>277</td>\n",
       "      <td>Shawshank Redemption, The (1994)</td>\n",
       "      <td>Crime|Drama</td>\n",
       "      <td>4.431746</td>\n",
       "      <td>315</td>\n",
       "    </tr>\n",
       "    <tr>\n",
       "      <th>257</th>\n",
       "      <td>257</td>\n",
       "      <td>Pulp Fiction (1994)</td>\n",
       "      <td>Comedy|Crime|Drama|Thriller</td>\n",
       "      <td>4.197068</td>\n",
       "      <td>307</td>\n",
       "    </tr>\n",
       "    <tr>\n",
       "      <th>1933</th>\n",
       "      <td>1939</td>\n",
       "      <td>Matrix, The (1999)</td>\n",
       "      <td>Action|Sci-Fi|Thriller</td>\n",
       "      <td>4.182510</td>\n",
       "      <td>263</td>\n",
       "    </tr>\n",
       "    <tr>\n",
       "      <th>224</th>\n",
       "      <td>224</td>\n",
       "      <td>Star Wars: Episode IV - A New Hope (1977)</td>\n",
       "      <td>Action|Adventure|Sci-Fi</td>\n",
       "      <td>4.231076</td>\n",
       "      <td>251</td>\n",
       "    </tr>\n",
       "    <tr>\n",
       "      <th>97</th>\n",
       "      <td>97</td>\n",
       "      <td>Braveheart (1995)</td>\n",
       "      <td>Action|Drama|War</td>\n",
       "      <td>4.031646</td>\n",
       "      <td>237</td>\n",
       "    </tr>\n",
       "    <tr>\n",
       "      <th>509</th>\n",
       "      <td>510</td>\n",
       "      <td>Silence of the Lambs, The (1991)</td>\n",
       "      <td>Crime|Horror|Thriller</td>\n",
       "      <td>4.146552</td>\n",
       "      <td>232</td>\n",
       "    </tr>\n",
       "    <tr>\n",
       "      <th>418</th>\n",
       "      <td>418</td>\n",
       "      <td>Jurassic Park (1993)</td>\n",
       "      <td>Action|Adventure|Sci-Fi|Thriller</td>\n",
       "      <td>3.742009</td>\n",
       "      <td>219</td>\n",
       "    </tr>\n",
       "    <tr>\n",
       "      <th>0</th>\n",
       "      <td>0</td>\n",
       "      <td>Toy Story (1995)</td>\n",
       "      <td>Adventure|Animation|Children|Comedy|Fantasy</td>\n",
       "      <td>3.920930</td>\n",
       "      <td>215</td>\n",
       "    </tr>\n",
       "    <tr>\n",
       "      <th>2216</th>\n",
       "      <td>2226</td>\n",
       "      <td>Fight Club (1999)</td>\n",
       "      <td>Action|Crime|Drama|Thriller</td>\n",
       "      <td>4.258216</td>\n",
       "      <td>213</td>\n",
       "    </tr>\n",
       "  </tbody>\n",
       "</table>\n",
       "</div>"
      ],
      "text/plain": [
       "      MovieID                                      Title  \\\n",
       "314       314                        Forrest Gump (1994)   \n",
       "277       277           Shawshank Redemption, The (1994)   \n",
       "257       257                        Pulp Fiction (1994)   \n",
       "1933     1939                         Matrix, The (1999)   \n",
       "224       224  Star Wars: Episode IV - A New Hope (1977)   \n",
       "97         97                          Braveheart (1995)   \n",
       "509       510           Silence of the Lambs, The (1991)   \n",
       "418       418                       Jurassic Park (1993)   \n",
       "0           0                           Toy Story (1995)   \n",
       "2216     2226                          Fight Club (1999)   \n",
       "\n",
       "                                           Genres  AVG_Rating  Counts  \n",
       "314                      Comedy|Drama|Romance|War    4.173913     322  \n",
       "277                                   Crime|Drama    4.431746     315  \n",
       "257                   Comedy|Crime|Drama|Thriller    4.197068     307  \n",
       "1933                       Action|Sci-Fi|Thriller    4.182510     263  \n",
       "224                       Action|Adventure|Sci-Fi    4.231076     251  \n",
       "97                               Action|Drama|War    4.031646     237  \n",
       "509                         Crime|Horror|Thriller    4.146552     232  \n",
       "418              Action|Adventure|Sci-Fi|Thriller    3.742009     219  \n",
       "0     Adventure|Animation|Children|Comedy|Fantasy    3.920930     215  \n",
       "2216                  Action|Crime|Drama|Thriller    4.258216     213  "
      ]
     },
     "execution_count": 26,
     "metadata": {},
     "output_type": "execute_result"
    }
   ],
   "source": [
    "recommend(rec, new_user_id).head(10)"
   ]
  },
  {
   "cell_type": "code",
   "execution_count": null,
   "metadata": {},
   "outputs": [],
   "source": []
  }
 ],
 "metadata": {
  "kernelspec": {
   "display_name": "Python 3 (ipykernel)",
   "language": "python",
   "name": "python3"
  },
  "language_info": {
   "codemirror_mode": {
    "name": "ipython",
    "version": 3
   },
   "file_extension": ".py",
   "mimetype": "text/x-python",
   "name": "python",
   "nbconvert_exporter": "python",
   "pygments_lexer": "ipython3",
   "version": "3.10.6"
  }
 },
 "nbformat": 4,
 "nbformat_minor": 4
}
